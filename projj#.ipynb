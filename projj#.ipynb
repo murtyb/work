{
 "cells": [
  {
   "cell_type": "code",
   "execution_count": 3,
   "metadata": {},
   "outputs": [],
   "source": [
    "import datetime as dt\n",
    "import pandas as pd\n",
    "import os"
   ]
  },
  {
   "cell_type": "code",
   "execution_count": 2,
   "metadata": {},
   "outputs": [],
   "source": [
    "DATA_FILE = \"data\"\n",
    "PRICE_FILE = \"price_data\"\n",
    "AUCTION_FILE = \"auction_data\""
   ]
  },
  {
   "cell_type": "code",
   "execution_count": 6,
   "metadata": {},
   "outputs": [],
   "source": [
    "data = {\n",
    "    'Datetime': pd.to_datetime([\n",
    "        '2023-01-05 09:30:00', '2023-01-05 10:00:00', '2023-01-05 10:30:00',\n",
    "        '2023-01-05 11:00:00', '2023-01-05 11:30:00', '2023-01-05 12:00:00'\n",
    "    ]),\n",
    "    'Open': [107.50, 108.00, 108.50, 109.00, 109.50, 110.00],\n",
    "    'High': [108.00, 108.50, 109.00, 109.50, 110.00, 110.50],\n",
    "    'Low': [107.00, 107.50, 108.00, 108.50, 109.00, 109.50],\n",
    "    'Close': [108.00, 108.50, 109.00, 109.50, 110.00, 110.50],\n",
    "    'Adj Close': [108.00, 108.50, 109.00, 109.50, 110.00, 110.50],\n",
    "    'Volume': [500, 600, 700, 800, 900, 1000]\n",
    "}\n",
    "\n",
    "df = pd.DataFrame(data)\n",
    "df.set_index('Datetime', inplace=True)"
   ]
  },
  {
   "cell_type": "code",
   "execution_count": 5,
   "metadata": {},
   "outputs": [],
   "source": [
    "def filename(folder_args, file):\n",
    "    file_name = \"\"\n",
    "    for arg in folder_args:\n",
    "        file_name = file_name + arg + \"/\"\n",
    "    if os.path.exists(file_name[:-1]):\n",
    "        os.mkdir(file_name[:-1])\n",
    "    file_name = file_name + file + \".csv\"\n",
    "    return file_name"
   ]
  },
  {
   "cell_type": "code",
   "execution_count": null,
   "metadata": {},
   "outputs": [],
   "source": [
    "class strat:\n",
    "    def __init__(self, tickers, baseline):\n",
    "        self.beta = 1\n",
    "        self.data = {}\n",
    "        self.start_date\n",
    "        self.end_date\n",
    "        self.tickers = tickers\n",
    "        self.baseline = baseline\n",
    "        self.ex_dates = []\n",
    "        self.edge = 40\n",
    "        self.sell_time = pd.to_datetime('10:15:00').time()\n",
    "        self.eod_time = pd.to_datetime('10:15:00').time()\n",
    "        self.current_date\n",
    "        self.next_date\n",
    "        columns = [ \"datetime\" \"stock\" \"stock buy price\", \"stock sell price\", f\"{baseline} buy price\", \"baseline sell price\", \"P&L\"]\n",
    "        self.trades = pd.DataFrame(columns=columns)\n",
    "        self.trades.set_index('datetime', inplace=True)\n",
    "\n",
    "\n",
    "    def set_data(self, ticker):\n",
    "        self.data[ticker][\"auction_data\"] = self.get_auction_data(ticker)\n",
    "        self.data[ticker][\"morning_data\"] = self.get_price_data(ticker, self.sell_time)\n",
    "        self.data[ticker][\"eod_data\"] = self.get_price_data(ticker, self.eod_time)\n",
    "    \n",
    "    def get_auction_data(self, ticker):\n",
    "        return pd.read_csv(filename([DATA_FILE, AUCTION_FILE], ticker, index_col = 0))\n",
    "\n",
    "    def get_price_data(self, ticker, time):\n",
    "        df = pd.read_csv(filename([DATA_FILE, PRICE_FILE], ticker), index_col = 0)\n",
    "        df = df[df.index.time == time]\n",
    "        df.index = df.index.date\n",
    "        return df\n",
    "\n",
    "    def create_data_struct(self):\n",
    "        for ticker in self.tickers:\n",
    "            self.set_data(ticker)\n",
    "        self.set_data(self.baseline)\n",
    "\n",
    "    def run(self):\n",
    "        current_date = self.start_date\n",
    "        next_date = next_date(current_date, self.data[self.baseline][\"auction_data\"])\n",
    "        while next_date <= self.end_date:\n",
    "            baseline_buy_price = self.data[self.baseline][\"auction_data\"][current_date]\n",
    "            baseline_sell_price = self.data[self.baseline][\"morning_data\"][next_date]\n",
    "            baseline_eod_price = self.data[self.baseline][\"eod_data\"][current_date]\n",
    "            for ticker in self.tickers:\n",
    "                stock_buy_price = self.data[self.baseline][\"auction_data\"][current_date]\n",
    "                stock_sell_price = self.data[self.baseline][\"morning_data\"][next_date]\n",
    "                stock_eod_price = self.data[self.baseline][\"eod_data\"][current_date]          \n",
    "\n",
    "    def next_date(self, date, df):\n",
    "        return df.index[df.index > date][0]\n"
   ]
  },
  {
   "cell_type": "code",
   "execution_count": null,
   "metadata": {},
   "outputs": [],
   "source": []
  },
  {
   "cell_type": "code",
   "execution_count": 4,
   "metadata": {},
   "outputs": [],
   "source": []
  }
 ],
 "metadata": {
  "kernelspec": {
   "display_name": "Python 3",
   "language": "python",
   "name": "python3"
  },
  "language_info": {
   "codemirror_mode": {
    "name": "ipython",
    "version": 3
   },
   "file_extension": ".py",
   "mimetype": "text/x-python",
   "name": "python",
   "nbconvert_exporter": "python",
   "pygments_lexer": "ipython3",
   "version": "3.12.3"
  }
 },
 "nbformat": 4,
 "nbformat_minor": 2
}
